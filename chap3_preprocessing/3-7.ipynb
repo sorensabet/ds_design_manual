{
 "cells": [
  {
   "cell_type": "markdown",
   "metadata": {},
   "source": [
    "3-7: What was weird about September 1752? What special steps might the data scientists of the day have had to take to normalize annual statistics? \n",
    "\n",
    "Based on: https://www.mentalfloss.com/article/51370/why-our-calendars-skipped-11-days-1752, this was the day that the British Empire switched from the Julian to the Gregorian Calendar. \n",
    "\n",
    "Steps that Data Scientists could take to address this anomaly are: \n",
    "1) Exclude data from 1752 if they have data for many other years \n",
    "2) Normalize any annual statistics with a factor of 354 instead of 365\n"
   ]
  },
  {
   "cell_type": "code",
   "execution_count": null,
   "metadata": {},
   "outputs": [],
   "source": []
  },
  {
   "cell_type": "code",
   "execution_count": null,
   "metadata": {},
   "outputs": [],
   "source": []
  }
 ],
 "metadata": {
  "kernelspec": {
   "display_name": "Python 3",
   "language": "python",
   "name": "python3"
  },
  "language_info": {
   "codemirror_mode": {
    "name": "ipython",
    "version": 3
   },
   "file_extension": ".py",
   "mimetype": "text/x-python",
   "name": "python",
   "nbconvert_exporter": "python",
   "pygments_lexer": "ipython3",
   "version": "3.7.6"
  }
 },
 "nbformat": 4,
 "nbformat_minor": 4
}
