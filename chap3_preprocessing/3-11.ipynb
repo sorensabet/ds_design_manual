{
 "cells": [
  {
   "cell_type": "markdown",
   "metadata": {},
   "source": [
    "3-11: Identify 1 or more US states with very lax voting registration rules. See what needs to be done to get access to data. (E.g. Florida) \n"
   ]
  },
  {
   "cell_type": "markdown",
   "metadata": {},
   "source": [
    "The following website provides a summary of laws related to voter access information: \n",
    "\n",
    "https://www.ncsl.org/research/elections-and-campaigns/access-to-and-use-of-voter-registration-lists.aspx\n",
    "\n",
    "The states that provide access to the list are: \n",
    " - Alaska \n",
    " - Arkansas (Fee)\n",
    " - Colorado \n",
    " - Conneticut\n",
    " - Delaware (Fee)\n",
    " - D.C\n",
    " - Florida \n",
    " - Georgia \n",
    " - Hawaii \n",
    " - Idaho \n",
    " - Iowa (Fee) \n",
    " - Michigan \n",
    " - Mississipi \n",
    " - Montana (Fee)\n",
    " - Nebraska (Fee)\n",
    " - Nevada (Fee)\n",
    " - New Mexico? \n",
    " - North Carolina (Fee)\n",
    " - Oklahoma\n",
    " - Oregon (Fee)\n",
    " - Rhode Island \n",
    " - South Carolina \n",
    " - Texas \n",
    " - West Virginia \n",
    " - Wisconson \n",
    " \n",
    "Some states make this data publicly accessible:"
   ]
  },
  {
   "cell_type": "markdown",
   "metadata": {},
   "source": [
    "Alaska: http://www.elections.alaska.gov/Core/listsandreports.php\n",
    "Florida: https://dos.myflorida.com/elections/data-statistics/voter-registration-statistics/voter-extract-disk-request/\n",
    "West Virginia: https://sos.wv.gov/FormSearch/Elections/Informational/voter%20data%20request%20071213.pdf"
   ]
  },
  {
   "cell_type": "code",
   "execution_count": null,
   "metadata": {},
   "outputs": [],
   "source": []
  }
 ],
 "metadata": {
  "kernelspec": {
   "display_name": "Python 3",
   "language": "python",
   "name": "python3"
  },
  "language_info": {
   "codemirror_mode": {
    "name": "ipython",
    "version": 3
   },
   "file_extension": ".py",
   "mimetype": "text/x-python",
   "name": "python",
   "nbconvert_exporter": "python",
   "pygments_lexer": "ipython3",
   "version": "3.7.6"
  }
 },
 "nbformat": 4,
 "nbformat_minor": 4
}
