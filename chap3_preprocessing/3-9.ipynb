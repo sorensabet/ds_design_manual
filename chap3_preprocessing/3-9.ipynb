{
 "cells": [
  {
   "cell_type": "markdown",
   "metadata": {},
   "source": [
    "3-9) A Health sensor produces stream of twenty different values, including blood pressure, heart rate, and body temperature. \n",
    "Describe two or more techniques you can use to check if the data is valid. \n",
    "\n",
    "Method 1: Create a distribution using verified historical data for each of the variables being measured, and compare data coming from the sensor. Use a statistical test to determine if the data coming from the new sensor is statistically different from the historical dataset. \n",
    "\n",
    "Method 2: For some variables, check if the data makes sense. For example, body temperature will fall within a specific range for any living person. If the sensor measures an incorrect temperature, it is not working. \n",
    "\n",
    "Method 3: If the sensor is being used on the same patient, compare it with another sensor that is the Gold Standard\n"
   ]
  }
 ],
 "metadata": {
  "kernelspec": {
   "display_name": "Python 3",
   "language": "python",
   "name": "python3"
  },
  "language_info": {
   "codemirror_mode": {
    "name": "ipython",
    "version": 3
   },
   "file_extension": ".py",
   "mimetype": "text/x-python",
   "name": "python",
   "nbconvert_exporter": "python",
   "pygments_lexer": "ipython3",
   "version": "3.7.6"
  }
 },
 "nbformat": 4,
 "nbformat_minor": 4
}
