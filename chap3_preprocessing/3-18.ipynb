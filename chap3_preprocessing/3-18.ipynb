{
 "cells": [
  {
   "cell_type": "markdown",
   "metadata": {},
   "source": [
    "3-18: Explain Selection Bias \n",
    "\n",
    "Selection bias occurs when the data used to explore a question was systematically chosen in a way that affects the outcome. For example, if we are trying to estimate the prevalence of severe depression in a population, but we get a low number of participants who classify themselves as being severely depressed, this might be occuring because the most depressed patients did not complete the survey, and not because the prevalence was truly so low. \n",
    "\n",
    "Stated more formally, selection bias occurs when proper randomization is not achieved during the selection process (Wikipedia)\n",
    "\n",
    "Selection bias is important because it can cause an analysis to lead to the wrong conclusions, as shown above.\n",
    "\n",
    "Naive approaches to handling missing data can worsen selection bias because if the data is MAR or MNAR, then removing those records can affect the distribution of outcomes in the dataset. Using the depression example, if there is a negative correlation between how depressed someone is and how many questions they answer on a survey, excluding surveys with fewer answers removes the most depressed individuals from the dataset, which can in turn lead to incorrect conclusions. "
   ]
  },
  {
   "cell_type": "code",
   "execution_count": null,
   "metadata": {},
   "outputs": [],
   "source": []
  }
 ],
 "metadata": {
  "kernelspec": {
   "display_name": "Python 3",
   "language": "python",
   "name": "python3"
  },
  "language_info": {
   "codemirror_mode": {
    "name": "ipython",
    "version": 3
   },
   "file_extension": ".py",
   "mimetype": "text/x-python",
   "name": "python",
   "nbconvert_exporter": "python",
   "pygments_lexer": "ipython3",
   "version": "3.7.6"
  }
 },
 "nbformat": 4,
 "nbformat_minor": 4
}
