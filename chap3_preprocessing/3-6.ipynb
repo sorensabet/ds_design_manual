{
 "cells": [
  {
   "cell_type": "markdown",
   "metadata": {},
   "source": [
    "Switching from Pycharm to Jupyter\n",
    "3-6: For one or more of the following Quant Shop challenges, find relevant data sources and assess their quality\n",
    "b) Movie Gross Data"
   ]
  },
  {
   "cell_type": "code",
   "execution_count": 1,
   "metadata": {},
   "outputs": [],
   "source": [
    "# Can create a free AWS account, then request the data through AWS Exchange. \n",
    "# Iit is not worthwhile to go through all the steps right now. \n",
    "# It is sufficient to state that IMDB will be a very good source of data for predicting movie gross, because it has a lot of historical data on many different films, with relevant features (e.g actors/actresses, budget, plot description, etc)\n"
   ]
  },
  {
   "cell_type": "code",
   "execution_count": null,
   "metadata": {},
   "outputs": [],
   "source": []
  }
 ],
 "metadata": {
  "kernelspec": {
   "display_name": "Python 3",
   "language": "python",
   "name": "python3"
  },
  "language_info": {
   "codemirror_mode": {
    "name": "ipython",
    "version": 3
   },
   "file_extension": ".py",
   "mimetype": "text/x-python",
   "name": "python",
   "nbconvert_exporter": "python",
   "pygments_lexer": "ipython3",
   "version": "3.7.6"
  }
 },
 "nbformat": 4,
 "nbformat_minor": 4
}
