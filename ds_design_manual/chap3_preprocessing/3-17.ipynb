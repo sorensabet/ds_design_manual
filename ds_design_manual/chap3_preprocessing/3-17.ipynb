{
 "cells": [
  {
   "cell_type": "markdown",
   "metadata": {},
   "source": [
    "3-17: How to treat missing values in data analysis? \n",
    "\n",
    "This largely depends on why the values are missing. There are 3 possibilities: \n",
    "https://www.ncbi.nlm.nih.gov/books/NBK493614/\n",
    "\n",
    "- Missing at Random (MAR)\n",
    "- Misisng Completely at Random (MCAR)\n",
    "- Missing Not at Random (MNAR)\n",
    "\n",
    "MAR:\n",
    " - The missing data is systematically related to the observed data, but not to unobserved data. For example, in a medical dataset, if it is known that sex affects another variable, then only men or women would have the other variable recorded. \n",
    " \n",
    "MCAR: \n",
    "- Missing data is independent of observed and unobserved data\n",
    "- The missing data does not introduce bias \n",
    "- Often considered a strong and unrealistic assumption \n",
    "\n",
    "MNAR: \n",
    "- The missing data is systematically related to unobserved data\n",
    "\n",
    "In all cases, there are various strategies that you can try:\n",
    " - Remove records that are missing all values (introduces bias if data is MAR/MNAR)\n",
    " - Use the mean value of that features (introduces bias if data is MAR/MNAR) \n",
    " - Using KNN or Multiple Imputation through Chained Equations (more sophisiticated than mean imputation, but still introduces bias) \n",
    " - Not use that feature at all (can lose predictive power if that feature is strongly correlated to outcome of interest) \n",
    " - Try multiple imputation method and quantify performance changes (this lets you know how much the imputation is affecting the outcome. If different imputation strategies lead to large performance changes, then you know your model isn't very stable)"
   ]
  },
  {
   "cell_type": "code",
   "execution_count": null,
   "metadata": {},
   "outputs": [],
   "source": []
  }
 ],
 "metadata": {
  "kernelspec": {
   "display_name": "Python 3",
   "language": "python",
   "name": "python3"
  },
  "language_info": {
   "codemirror_mode": {
    "name": "ipython",
    "version": 3
   },
   "file_extension": ".py",
   "mimetype": "text/x-python",
   "name": "python",
   "nbconvert_exporter": "python",
   "pygments_lexer": "ipython3",
   "version": "3.7.6"
  }
 },
 "nbformat": 4,
 "nbformat_minor": 4
}
