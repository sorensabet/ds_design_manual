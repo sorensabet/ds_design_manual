{
 "cells": [
  {
   "cell_type": "markdown",
   "metadata": {},
   "source": [
    "3-12: Describe how crowdsourced workers might be used to gather data for following challenges"
   ]
  },
  {
   "cell_type": "markdown",
   "metadata": {},
   "source": [
    "Miss Universe\n",
    " - Labelling a large collection of images (facial shot, full figure, etc)\n",
    " - Gathering images of former miss universe contestants across the internet for each year \n",
    "\n",
    "Movie Gross \n",
    " - Labelling movie review sentiment as positive or negative \n",
    " - Watching movies and extracting relevant features from each film \n",
    "\n",
    "Baby Weight \n",
    " - Going through hospital records and determining if weight was measured in metric or imperial \n",
    "\n",
    "Art Auction Price \n",
    " - Assessing whether the painting was damaged in any way \n",
    "\n",
    "\n",
    "This isn't a very useful excercise, because often what requires labelling isn't clear until the data has been explored."
   ]
  },
  {
   "cell_type": "code",
   "execution_count": null,
   "metadata": {},
   "outputs": [],
   "source": []
  }
 ],
 "metadata": {
  "kernelspec": {
   "display_name": "Python 3",
   "language": "python",
   "name": "python3"
  },
  "language_info": {
   "codemirror_mode": {
    "name": "ipython",
    "version": 3
   },
   "file_extension": ".py",
   "mimetype": "text/x-python",
   "name": "python",
   "nbconvert_exporter": "python",
   "pygments_lexer": "ipython3",
   "version": "3.7.6"
  }
 },
 "nbformat": 4,
 "nbformat_minor": 4
}
