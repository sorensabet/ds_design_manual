{
 "cells": [
  {
   "cell_type": "markdown",
   "metadata": {},
   "source": [
    "Outliers expected in the following datasets:\n",
    "a) Student grades \n",
    "b) Salary data \n",
    "c) Lifespans in Wikipedia \n",
    "\n",
    "a) There are high performing students who achieve 100% on everything, very low performing students who for variuos reasons consistently fail everything, \n",
    "students who do not attend tests/examinations or complete their assignments and get a grade of 0, students who cheat and get a grade of 0. \n",
    "\n",
    "b) Executives and directors can have much higher salaries than regular employees. Unemployed people have a salary of 0. There could be data entry errors, so it would be good to compare the salary for each job title against the mean salary for that job title to determine what percentile it falls under. \n",
    "\n",
    "c) \n",
    " - Obscure people whose birthdate was entered but whose death was not recorded. \n",
    " - Records of famous children who died very young\n",
    " - Mythical figures whose stated lifespan is significantly longer than average human lifespan"
   ]
  },
  {
   "cell_type": "code",
   "execution_count": null,
   "metadata": {},
   "outputs": [],
   "source": []
  }
 ],
 "metadata": {
  "kernelspec": {
   "display_name": "Python 3",
   "language": "python",
   "name": "python3"
  },
  "language_info": {
   "codemirror_mode": {
    "name": "ipython",
    "version": 3
   },
   "file_extension": ".py",
   "mimetype": "text/x-python",
   "name": "python",
   "nbconvert_exporter": "python",
   "pygments_lexer": "ipython3",
   "version": "3.7.6"
  }
 },
 "nbformat": 4,
 "nbformat_minor": 4
}
