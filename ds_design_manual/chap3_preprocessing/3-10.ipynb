{
 "cells": [
  {
   "cell_type": "markdown",
   "metadata": {},
   "source": [
    "3-10: Implement a function that extracts hashtags from a dataframe of tweets. \n",
    "Hashtags begin with '#' and contain any combination of upper and lowercase characters and digits. \n",
    "Assume that the hashtag ends where there is a space or a punctuation mark, like a comma, semicolon, or period. \n",
    "\n",
    "# Steps: \n",
    "1. Find or create a dataframe of tweets \n",
    "2. Create the appropriate regex using https://regex101.com/\n",
    "3. Extract the tweets and print them. "
   ]
  },
  {
   "cell_type": "markdown",
   "metadata": {},
   "source": [
    "# STEP 1: Preparing dataset of tweets"
   ]
  },
  {
   "cell_type": "code",
   "execution_count": 81,
   "metadata": {},
   "outputs": [],
   "source": [
    "# Started by googling 'free tweet dataset'\n",
    "# Found: https://www.trackmyhashtag.com/blog/twitter-datasets-free/\n",
    "# Picked: Top 50 twitter profile tweets \n",
    "\n",
    "# Loop through all downloaded data and delete all non-tweet data\n",
    "import os \n",
    "import pandas as pd\n",
    "pd.set_option('display.max_rows', 20)\n",
    "pd.set_option('display.max_columns', 20)\n",
    "pd.set_option('display.max_colwidth', 200)\n",
    "pd.set_option('display.width', 1000)\n"
   ]
  },
  {
   "cell_type": "code",
   "execution_count": 82,
   "metadata": {},
   "outputs": [],
   "source": [
    "tweet_df = []\n",
    "tweet_folder = '/Users/sorensabet/Desktop/ds_design_manual/chap3_preprocessing/data/twitter_data'"
   ]
  },
  {
   "cell_type": "code",
   "execution_count": 83,
   "metadata": {},
   "outputs": [],
   "source": [
    "# Read in tweets.csv from subdirectories\n",
    "for path in os.listdir(tweet_folder): \n",
    "    if (path == '.DS_Store'):\n",
    "        continue\n",
    "    tweet_df.append(pd.read_csv(tweet_folder + '/' + path + '/tweets.csv'))"
   ]
  },
  {
   "cell_type": "code",
   "execution_count": 84,
   "metadata": {},
   "outputs": [],
   "source": [
    "tweets = pd.concat(tweet_df)"
   ]
  },
  {
   "cell_type": "code",
   "execution_count": 85,
   "metadata": {},
   "outputs": [
    {
     "name": "stdout",
     "output_type": "stream",
     "text": [
      "Index(['Tweet Id', 'Tweet URL', 'Tweet Posted Time', 'Tweet Content', 'Tweet Type', 'Client', 'Retweets received', 'Likes received', 'User Id', 'Name', 'Username', 'Verified or Non-Verified', 'Profile URL', 'Protected or Not Protected'], dtype='object')\n"
     ]
    }
   ],
   "source": [
    "print(tweets.columns)"
   ]
  },
  {
   "cell_type": "code",
   "execution_count": 86,
   "metadata": {},
   "outputs": [
    {
     "name": "stdout",
     "output_type": "stream",
     "text": [
      "                Tweet Id                                                       Tweet URL    Tweet Posted Time                                                                                                                                                                                            Tweet Content Tweet Type                Client Retweets received Likes received                User Id                               Name         Username Verified or Non-Verified                          Profile URL Protected or Not Protected\n",
      "0  \"1220109701276454922\"  https://twitter.com/marshablackburn/status/1220109701276454922  2020-01-22 22:23:15  \"We all know Adam Schiff loves hearing himself talk. So, let’s give him something to talk about:\\n\\n1) Why did Schiff collude with the \"whistleblower?”\\n\\n2) What instructions did he provide the \"...    Retweet       Twitter Web App             14784          38052            \"278145569\"            \"Sen. Marsha Blackburn\"  marshablackburn                 Verified  https://twitter.com/marshablackburn              Not Protected\n",
      "1  \"1220107185276907521\"  https://twitter.com/realdonaldtrump/status/1220107185276907521  2020-01-22 22:13:16                                                                                                                          \"Sorry, if you come you will be immediately sent back! https://t.co/Ba9kmD6HD0\"      Tweet    Twitter for iPhone             20671          77127             \"25073877\"                  \"Donald J. Trump\"  realdonaldtrump                 Verified  https://twitter.com/realdonaldtrump              Not Protected\n",
      "2  \"1220105021930426368\"  https://twitter.com/realdonaldtrump/status/1220105021930426368  2020-01-22 22:04:40                                                                                                                                                 \"See you on Friday...Big Crowd! https://t.co/MFyWLG4HFZ\"      Tweet    Twitter for iPhone             18522          68211             \"25073877\"                  \"Donald J. Trump\"  realdonaldtrump                 Verified  https://twitter.com/realdonaldtrump              Not Protected\n",
      "3  \"1220103850482380802\"   https://twitter.com/senbillcassidy/status/1220103850482380802  2020-01-22 22:00:01  \"The rules laid out by @senatemajldr for the impeachment trial follow the Clinton Model, which passed 100-0 in 1999. Why can’t @SenSchumer accept the same rules that he voted for only two decades ...    Retweet             TweetDeck              8290          25446  \"1017500185356853248\"  \"U.S. Senator Bill Cassidy, M.D.\"   senbillcassidy                 Verified   https://twitter.com/senbillcassidy              Not Protected\n",
      "4  \"1220101014734475265\"   https://twitter.com/repdougcollins/status/1220101014734475265  2020-01-22 21:48:44           \"Despite Democrats’ best attempts to distort the truth ahead of the 2020 election, the central facts never change. \\n \\nPresident @realDonaldTrump did nothing wrong. https://t.co/6W0erpzD5Q\"    Retweet  Twitter Media Studio             10074          29761           \"1060487274\"                \"Rep. Doug Collins\"   repdougcollins                 Verified   https://twitter.com/repdougcollins              Not Protected\n"
     ]
    }
   ],
   "source": [
    "print(tweets.head())"
   ]
  },
  {
   "cell_type": "code",
   "execution_count": 87,
   "metadata": {},
   "outputs": [],
   "source": [
    "# Remove the columns we don't need to reduce mental clutter. \n",
    "tweets.drop(columns={'Tweet URL', 'Tweet Posted Time', 'Tweet Type', 'Client', 'Retweets received', 'Likes received', 'User Id', 'Name', 'Username', 'Verified or Non-Verified', 'Profile URL', 'Protected or Not Protected'}, inplace=True)"
   ]
  },
  {
   "cell_type": "code",
   "execution_count": 88,
   "metadata": {},
   "outputs": [
    {
     "name": "stdout",
     "output_type": "stream",
     "text": [
      "                   Tweet Id                                                                                                                                                                                            Tweet Content\n",
      "0     \"1220109701276454922\"  \"We all know Adam Schiff loves hearing himself talk. So, let’s give him something to talk about:\\n\\n1) Why did Schiff collude with the \"whistleblower?”\\n\\n2) What instructions did he provide the \"...\n",
      "1     \"1220107185276907521\"                                                                                                                          \"Sorry, if you come you will be immediately sent back! https://t.co/Ba9kmD6HD0\"\n",
      "2     \"1220105021930426368\"                                                                                                                                                 \"See you on Friday...Big Crowd! https://t.co/MFyWLG4HFZ\"\n",
      "3     \"1220103850482380802\"  \"The rules laid out by @senatemajldr for the impeachment trial follow the Clinton Model, which passed 100-0 in 1999. Why can’t @SenSchumer accept the same rules that he voted for only two decades ...\n",
      "4     \"1220101014734475265\"           \"Despite Democrats’ best attempts to distort the truth ahead of the 2020 election, the central facts never change. \\n \\nPresident @realDonaldTrump did nothing wrong. https://t.co/6W0erpzD5Q\"\n",
      "...                     ...                                                                                                                                                                                                      ...\n",
      "3195  \"1213148285172535296\"  \"A rafflesia that recently bloomed in a West Sumatran forest is nearly 4 feet in diameter -- that would make it the largest flower ever recorded, according to the Natural Resources and Conservatio...\n",
      "3196  \"1213145517099749377\"  \"Kentucky's Attorney General says he's asking the FBI to investigate pardons that former Gov. Matt Bevin issued in his last days in office -- pardons that drew criticism partly over accusations th...\n",
      "3197  \"1213143006934683649\"                                                       \"The American Kennel Club has announced two new breeds of dog, the Dogo Argentino and the Barbet. https://t.co/JrXN4SCIUO https://t.co/UXLnxwulUP\"\n",
      "3198  \"1213140493716140033\"             \"Google has disabled access of Xiaomi devices after a user said he was able to see into the homes of strangers while trying to stream video to his Google Nest Hub. https://t.co/ZeuQoOiqpy\"\n",
      "3199  \"1213137973279100929\"  \"Republican Sen. Lindsey Graham of South Carolina said he was briefed about the US strike that killed Iran Quds Force commander Qasem Soleimani, while senior Democratic congressional members were ...\n",
      "\n",
      "[153472 rows x 2 columns]\n"
     ]
    }
   ],
   "source": [
    "print(tweets)"
   ]
  },
  {
   "cell_type": "markdown",
   "metadata": {},
   "source": [
    "# Step 2: Creating Regex to Extract Tweets"
   ]
  },
  {
   "cell_type": "code",
   "execution_count": 92,
   "metadata": {},
   "outputs": [],
   "source": [
    "# The regex is #[a-zA-Z0-9]*\n",
    "hashtags = tweets['Tweet Content'].str.extractall('(#[a-zA-Z0-9]*)').reset_index(drop=True)"
   ]
  },
  {
   "cell_type": "code",
   "execution_count": 93,
   "metadata": {},
   "outputs": [
    {
     "name": "stdout",
     "output_type": "stream",
     "text": [
      "                   Tweet Id                                                                                                                                                                                            Tweet Content\n",
      "0     \"1220109701276454922\"  \"We all know Adam Schiff loves hearing himself talk. So, let’s give him something to talk about:\\n\\n1) Why did Schiff collude with the \"whistleblower?”\\n\\n2) What instructions did he provide the \"...\n",
      "1     \"1220107185276907521\"                                                                                                                          \"Sorry, if you come you will be immediately sent back! https://t.co/Ba9kmD6HD0\"\n",
      "2     \"1220105021930426368\"                                                                                                                                                 \"See you on Friday...Big Crowd! https://t.co/MFyWLG4HFZ\"\n",
      "3     \"1220103850482380802\"  \"The rules laid out by @senatemajldr for the impeachment trial follow the Clinton Model, which passed 100-0 in 1999. Why can’t @SenSchumer accept the same rules that he voted for only two decades ...\n",
      "4     \"1220101014734475265\"           \"Despite Democrats’ best attempts to distort the truth ahead of the 2020 election, the central facts never change. \\n \\nPresident @realDonaldTrump did nothing wrong. https://t.co/6W0erpzD5Q\"\n",
      "...                     ...                                                                                                                                                                                                      ...\n",
      "3195  \"1213148285172535296\"  \"A rafflesia that recently bloomed in a West Sumatran forest is nearly 4 feet in diameter -- that would make it the largest flower ever recorded, according to the Natural Resources and Conservatio...\n",
      "3196  \"1213145517099749377\"  \"Kentucky's Attorney General says he's asking the FBI to investigate pardons that former Gov. Matt Bevin issued in his last days in office -- pardons that drew criticism partly over accusations th...\n",
      "3197  \"1213143006934683649\"                                                       \"The American Kennel Club has announced two new breeds of dog, the Dogo Argentino and the Barbet. https://t.co/JrXN4SCIUO https://t.co/UXLnxwulUP\"\n",
      "3198  \"1213140493716140033\"             \"Google has disabled access of Xiaomi devices after a user said he was able to see into the homes of strangers while trying to stream video to his Google Nest Hub. https://t.co/ZeuQoOiqpy\"\n",
      "3199  \"1213137973279100929\"  \"Republican Sen. Lindsey Graham of South Carolina said he was briefed about the US strike that killed Iran Quds Force commander Qasem Soleimani, while senior Democratic congressional members were ...\n",
      "\n",
      "[153472 rows x 2 columns]\n"
     ]
    }
   ],
   "source": [
    "print(tweets)"
   ]
  },
  {
   "cell_type": "code",
   "execution_count": 94,
   "metadata": {},
   "outputs": [
    {
     "name": "stdout",
     "output_type": "stream",
     "text": [
      "                         0\n",
      "0            #AmericaFirst\n",
      "1         #ShamImpeachment\n",
      "2                 #Verdict\n",
      "3        #ImpeachmentTrial\n",
      "4                   #wef20\n",
      "...                    ...\n",
      "71017             #CNNSOTU\n",
      "71018  #LindaRonstadtMovie\n",
      "71019  #LindaRonstadtMovie\n",
      "71020             #CNNSOTU\n",
      "71021  #LindaRonstadtMovie\n",
      "\n",
      "[71022 rows x 1 columns]\n"
     ]
    }
   ],
   "source": [
    "print(hashtags)"
   ]
  },
  {
   "cell_type": "code",
   "execution_count": 96,
   "metadata": {},
   "outputs": [
    {
     "name": "stdout",
     "output_type": "stream",
     "text": [
      "#HalaMadrid           2034\n",
      "#CraqueDaClaro        1292\n",
      "#FallonTonight        1283\n",
      "#PadManTrailer        1210\n",
      "#RMLiga                847\n",
      "                      ... \n",
      "#One1037                 1\n",
      "#NationalMoonDay         1\n",
      "#TheHurryantheHarm       1\n",
      "#OurOcean2015            1\n",
      "#SecretOfLifePets2       1\n",
      "Name: 0, Length: 19111, dtype: int64\n"
     ]
    }
   ],
   "source": [
    "print(hashtags[0].value_counts())"
   ]
  },
  {
   "cell_type": "code",
   "execution_count": 97,
   "metadata": {},
   "outputs": [],
   "source": [
    "# Trivial to create a function that does the same functionality, not worthwhile to implement here."
   ]
  },
  {
   "cell_type": "code",
   "execution_count": null,
   "metadata": {},
   "outputs": [],
   "source": []
  }
 ],
 "metadata": {
  "kernelspec": {
   "display_name": "Python 3",
   "language": "python",
   "name": "python3"
  },
  "language_info": {
   "codemirror_mode": {
    "name": "ipython",
    "version": 3
   },
   "file_extension": ".py",
   "mimetype": "text/x-python",
   "name": "python",
   "nbconvert_exporter": "python",
   "pygments_lexer": "ipython3",
   "version": "3.7.6"
  }
 },
 "nbformat": 4,
 "nbformat_minor": 4
}
