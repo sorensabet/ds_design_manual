{
 "cells": [
  {
   "cell_type": "markdown",
   "metadata": {},
   "source": [
    "3-15: How to screen for outliers? \n",
    "\n",
    "- Compare minimum and maximum values in the data to historically verified minimums and maximums. For example, if working with heart rate data, we know that the minimum is 0, and that it is very unlikely to have heart rates below ~40bpm (guess based on current knowledge) in healthy people. Similarly, it is very unlikely to have heart rates above ~200bpm. \n",
    "\n",
    "- Determine how many standard deviations away the observation is from the rest of the data, and the probability that the value would be observed assuming a normal distribution \n",
    "\n",
    "- Judgement call on how likely it is that it was a data entry error (e.g. forgetting a decimal, adding an extra digit, forgetting one digit)\n",
    "\n",
    "How to deal with them?\n",
    "\n",
    "- If they were data entry errors, they should be removed \n",
    "- If they are not data entry errors, they should be included, but that feature can be normalized for easier use\n"
   ]
  },
  {
   "cell_type": "code",
   "execution_count": null,
   "metadata": {},
   "outputs": [],
   "source": []
  }
 ],
 "metadata": {
  "kernelspec": {
   "display_name": "Python 3",
   "language": "python",
   "name": "python3"
  },
  "language_info": {
   "codemirror_mode": {
    "name": "ipython",
    "version": 3
   },
   "file_extension": ".py",
   "mimetype": "text/x-python",
   "name": "python",
   "nbconvert_exporter": "python",
   "pygments_lexer": "ipython3",
   "version": "3.7.6"
  }
 },
 "nbformat": 4,
 "nbformat_minor": 4
}
