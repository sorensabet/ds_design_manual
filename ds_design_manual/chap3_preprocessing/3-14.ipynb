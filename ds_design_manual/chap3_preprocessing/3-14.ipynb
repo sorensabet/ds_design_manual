{
 "cells": [
  {
   "cell_type": "markdown",
   "metadata": {},
   "source": [
    "3-14: How would you evaluate a system to predict stock prices?"
   ]
  },
  {
   "cell_type": "markdown",
   "metadata": {},
   "source": [
    "The system can be evaluated by its ability to predict historical stock prices given data collected before that time. \n",
    "\n",
    "There are different ways to frame this problem: \n",
    "a) Binary classification \n",
    " - Determine if the system correctly predicts an increase/decrease in stock price based on data collected at a specified time before the event of interest \n",
    "\n",
    "b) Regression \n",
    " - Evaluate the difference between the predicted price and the actual price based on data collected up to specified time before the event of interest \n"
   ]
  },
  {
   "cell_type": "code",
   "execution_count": null,
   "metadata": {},
   "outputs": [],
   "source": [
    " "
   ]
  }
 ],
 "metadata": {
  "kernelspec": {
   "display_name": "Python 3",
   "language": "python",
   "name": "python3"
  },
  "language_info": {
   "codemirror_mode": {
    "name": "ipython",
    "version": 3
   },
   "file_extension": ".py",
   "mimetype": "text/x-python",
   "name": "python",
   "nbconvert_exporter": "python",
   "pygments_lexer": "ipython3",
   "version": "3.7.6"
  }
 },
 "nbformat": 4,
 "nbformat_minor": 4
}
